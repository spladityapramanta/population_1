{
  "nbformat": 4,
  "nbformat_minor": 0,
  "metadata": {
    "colab": {
      "name": "Neural Network.ipynb",
      "provenance": [],
      "collapsed_sections": []
    },
    "kernelspec": {
      "name": "python3",
      "display_name": "Python 3"
    },
    "language_info": {
      "name": "python"
    }
  },
  "cells": [
    {
      "cell_type": "markdown",
      "source": [
        "# Mount Data dari Google Drive"
      ],
      "metadata": {
        "id": "z3dQ8KsoHGLT"
      }
    },
    {
      "cell_type": "code",
      "source": [
        "from google.colab import drive\n",
        "drive.mount('/content/drive')"
      ],
      "metadata": {
        "colab": {
          "base_uri": "https://localhost:8080/"
        },
        "id": "E11aRvgRHDly",
        "outputId": "91261247-7ac1-42bb-bc79-02c559fdfd6b"
      },
      "execution_count": 22,
      "outputs": [
        {
          "output_type": "stream",
          "name": "stdout",
          "text": [
            "Drive already mounted at /content/drive; to attempt to forcibly remount, call drive.mount(\"/content/drive\", force_remount=True).\n"
          ]
        }
      ]
    },
    {
      "cell_type": "markdown",
      "source": [
        "# Import Libary Awal Yang Dibutuhkan"
      ],
      "metadata": {
        "id": "ZcgbiOZbHLS0"
      }
    },
    {
      "cell_type": "code",
      "source": [
        "import tensorflow as tf\n",
        "import numpy as np\n",
        "import pandas as pd\n",
        "from tensorflow import keras\n",
        "from tensorflow.keras import layers"
      ],
      "metadata": {
        "id": "BBuzqg70HOT5"
      },
      "execution_count": 23,
      "outputs": []
    },
    {
      "cell_type": "markdown",
      "source": [
        "# Buka Data"
      ],
      "metadata": {
        "id": "XzGT6g3-SR37"
      }
    },
    {
      "cell_type": "code",
      "source": [
        "#Buka seluruh data untuk training dan validasi\n",
        "dataframe_2013 = pd.read_csv(\"/content/drive/MyDrive/DemoDay/Dataset/dkikepadatankelurahan2013_final3.csv\", sep=\";\")\n",
        "dataframe_2014 = pd.read_csv(\"/content/drive/MyDrive/DemoDay/Dataset/dkikepadatankelurahan2014_final3.csv\", sep=\";\")\n",
        "dataframe_2015 = pd.read_csv(\"/content/drive/MyDrive/DemoDay/Dataset/dkikepadatankelurahan2015_final3.csv\", sep=\";\")\n",
        "dataframe_2016 = pd.read_csv(\"/content/drive/MyDrive/DemoDay/Dataset/dkikepadatankelurahan2016_final3.csv\", sep=\";\")\n",
        "dataframe_2017 = pd.read_csv(\"/content/drive/MyDrive/DemoDay/Dataset/dkikepadatankelurahan2017_final3.csv\", sep=\";\")\n",
        "dataframe_2018 = pd.read_csv(\"/content/drive/MyDrive/DemoDay/Dataset/dkikepadatankelurahan2018_final3.csv\", sep=\";\")\n",
        "\n",
        "#Buka data tahun 2019 sebagai data testing\n",
        "dataframe_2019 = pd.read_csv(\"/content/drive/MyDrive/DemoDay/Dataset/dkikepadatankelurahan2019_final3.csv\", sep=\";\")\n",
        "\n",
        "#Gabungkan seluruh dataframe\n",
        "dataframe = pd.concat([dataframe_2013, dataframe_2014, dataframe_2015, dataframe_2016, dataframe_2017, dataframe_2018],ignore_index=True)"
      ],
      "metadata": {
        "id": "zxXS1XLJHRlf"
      },
      "execution_count": 24,
      "outputs": []
    },
    {
      "cell_type": "markdown",
      "source": [
        "# Setup Data"
      ],
      "metadata": {
        "id": "jQcvLJDHSUZo"
      }
    },
    {
      "cell_type": "code",
      "source": [
        "#cek persebaran data kematian menggunakan histogram\n",
        "jumlah_kematian = np.array(dataframe['JUMLAH KEMATIAN'])\n",
        "import matplotlib.pyplot as plt\n",
        "_ = plt.hist(jumlah_kematian, bins='auto')"
      ],
      "metadata": {
        "colab": {
          "base_uri": "https://localhost:8080/",
          "height": 265
        },
        "id": "rNNn6M65wv9q",
        "outputId": "2ff5fb8b-db9d-4e86-b34a-ad3fb6fffb4f"
      },
      "execution_count": 25,
      "outputs": [
        {
          "output_type": "display_data",
          "data": {
            "text/plain": [
              "<Figure size 432x288 with 1 Axes>"
            ],
            "image/png": "[encoded data removed]"
          },
          "metadata": {
            "needs_background": "light"
          }
        }
      ]
    },
    {
      "cell_type": "markdown",
      "source": [
        "Dari histogram di atas, dapat di ambil cut off sekitar 150. Dimana artinya jika JUMLAH KEMATIAN < 150, maka akan masuk ke kelas 0. Sisanya akan masuk ke kelas 1."
      ],
      "metadata": {
        "id": "v8GAbmtiwxrf"
      }
    },
    {
      "cell_type": "code",
      "source": [
        "#mengatur jumlah kematian yang di bawah 150 adalah label 0, dan di atas 150 adalah label 1\n",
        "label = dataframe['JUMLAH KEMATIAN'] < 150\n",
        "label_01 = label.apply(lambda x: 1 if x else 0)\n",
        "dataframe['label'] = label_01\n",
        "\n",
        "#menghapus kolom-kolom data yang tidak digunakan\n",
        "dataframe = dataframe.drop(['JUMLAH KEMATIAN'], axis=1)\n",
        "dataframe=dataframe.drop(['TAHUN'],axis=1)\n",
        "dataframe=dataframe.drop(['NAMA PROVINSI'],axis=1)\n",
        "dataframe=dataframe.drop(['NAMA KABUPATEN/KOTA'],axis=1)\n",
        "dataframe=dataframe.drop(['NAMA KECAMATAN'],axis=1)\n",
        "dataframe=dataframe.drop(['NAMA KELURAHAN'],axis=1)"
      ],
      "metadata": {
        "id": "z5oLD9tKH5Ca"
      },
      "execution_count": 26,
      "outputs": []
    },
    {
      "cell_type": "code",
      "source": [
        "#cek 5 data pertama\n",
        "dataframe.head()"
      ],
      "metadata": {
        "colab": {
          "base_uri": "https://localhost:8080/",
          "height": 334
        },
        "id": "GlcxsJxsHZZR",
        "outputId": "0a1b78bb-55f8-47bf-e350-4daae2713013"
      },
      "execution_count": 27,
      "outputs": [
        {
          "output_type": "execute_result",
          "data": {
            "text/plain": [
              "   JUMLAH KK  LUAS WILAYAH (KM2)  KEPADATAN (JIWA/KM2)  15-19 Laki-Laki  \\\n",
              "0       9302                5.77                  4981             1379   \n",
              "1      11025                0.80                 43826             1528   \n",
              "2       8854                1.67                 18012             1183   \n",
              "3       3856                0.67                 17304              474   \n",
              "4       7923                3.17                  8400             1121   \n",
              "\n",
              "   15-19 Perempuan  20-24 Laki-Laki  20-24 Perempuan  25-29 Laki-Laki  \\\n",
              "0             1219             2598             1111             1023   \n",
              "1             1440             2968             1380             1229   \n",
              "2             1111             1194             1179             1364   \n",
              "3              404              419              430              459   \n",
              "4             1028             1131             1073             1122   \n",
              "\n",
              "   25-29 Perempuan  30-34 Laki-Laki  ...  55-59 Laki-Laki  55-59 Perempuan  \\\n",
              "0             2134             1178  ...             1248             2690   \n",
              "1             2609             1387  ...             1460             3111   \n",
              "2             1269             1550  ...              677              609   \n",
              "3              414              514  ...              333              347   \n",
              "4             1141             1314  ...              596              476   \n",
              "\n",
              "   60-64 Laki-Laki  60-64 Perempuan  >65 Laki-Laki  >65 Perempuan  JUMLAH RT  \\\n",
              "0             1286             1048           4007           3630         66   \n",
              "1             1505             1371           5025           4716        139   \n",
              "2              418              381            416            417         53   \n",
              "3              247              228            322            389         74   \n",
              "4              377              250            347            359         65   \n",
              "\n",
              "   JUMLAH RW  JUMLAH KELAHIRAN  label  \n",
              "0          7               378      1  \n",
              "1         11               441      1  \n",
              "2          5               417      1  \n",
              "3          6               111      1  \n",
              "4          5               395      1  \n",
              "\n",
              "[5 rows x 29 columns]"
            ],
            "text/html": [
              "\n",
              "  <div id=\"df-66eb8e0d-d627-4e28-91b7-f17946d6a592\">\n",
              "    <div class=\"colab-df-container\">\n",
              "      <div>\n",
              "<style scoped>\n",
              "    .dataframe tbody tr th:only-of-type {\n",
              "        vertical-align: middle;\n",
              "    }\n",
              "\n",
              "    .dataframe tbody tr th {\n",
              "        vertical-align: top;\n",
              "    }\n",
              "\n",
              "    .dataframe thead th {\n",
              "        text-align: right;\n",
              "    }\n",
              "</style>\n",
              "<table border=\"1\" class=\"dataframe\">\n",
              "  <thead>\n",
              "    <tr style=\"text-align: right;\">\n",
              "      <th></th>\n",
              "      <th>JUMLAH KK</th>\n",
              "      <th>LUAS WILAYAH (KM2)</th>\n",
              "      <th>KEPADATAN (JIWA/KM2)</th>\n",
              "      <th>15-19 Laki-Laki</th>\n",
              "      <th>15-19 Perempuan</th>\n",
              "      <th>20-24 Laki-Laki</th>\n",
              "      <th>20-24 Perempuan</th>\n",
              "      <th>25-29 Laki-Laki</th>\n",
              "      <th>25-29 Perempuan</th>\n",
              "      <th>30-34 Laki-Laki</th>\n",
              "      <th>...</th>\n",
              "      <th>55-59 Laki-Laki</th>\n",
              "      <th>55-59 Perempuan</th>\n",
              "      <th>60-64 Laki-Laki</th>\n",
              "      <th>60-64 Perempuan</th>\n",
              "      <th>&gt;65 Laki-Laki</th>\n",
              "      <th>&gt;65 Perempuan</th>\n",
              "      <th>JUMLAH RT</th>\n",
              "      <th>JUMLAH RW</th>\n",
              "      <th>JUMLAH KELAHIRAN</th>\n",
              "      <th>label</th>\n",
              "    </tr>\n",
              "  </thead>\n",
              "  <tbody>\n",
              "    <tr>\n",
              "      <th>0</th>\n",
              "      <td>9302</td>\n",
              "      <td>5.77</td>\n",
              "      <td>4981</td>\n",
              "      <td>1379</td>\n",
              "      <td>1219</td>\n",
              "      <td>2598</td>\n",
              "      <td>1111</td>\n",
              "      <td>1023</td>\n",
              "      <td>2134</td>\n",
              "      <td>1178</td>\n",
              "      <td>...</td>\n",
              "      <td>1248</td>\n",
              "      <td>2690</td>\n",
              "      <td>1286</td>\n",
              "      <td>1048</td>\n",
              "      <td>4007</td>\n",
              "      <td>3630</td>\n",
              "      <td>66</td>\n",
              "      <td>7</td>\n",
              "      <td>378</td>\n",
              "      <td>1</td>\n",
              "    </tr>\n",
              "    <tr>\n",
              "      <th>1</th>\n",
              "      <td>11025</td>\n",
              "      <td>0.80</td>\n",
              "      <td>43826</td>\n",
              "      <td>1528</td>\n",
              "      <td>1440</td>\n",
              "      <td>2968</td>\n",
              "      <td>1380</td>\n",
              "      <td>1229</td>\n",
              "      <td>2609</td>\n",
              "      <td>1387</td>\n",
              "      <td>...</td>\n",
              "      <td>1460</td>\n",
              "      <td>3111</td>\n",
              "      <td>1505</td>\n",
              "      <td>1371</td>\n",
              "      <td>5025</td>\n",
              "      <td>4716</td>\n",
              "      <td>139</td>\n",
              "      <td>11</td>\n",
              "      <td>441</td>\n",
              "      <td>1</td>\n",
              "    </tr>\n",
              "    <tr>\n",
              "      <th>2</th>\n",
              "      <td>8854</td>\n",
              "      <td>1.67</td>\n",
              "      <td>18012</td>\n",
              "      <td>1183</td>\n",
              "      <td>1111</td>\n",
              "      <td>1194</td>\n",
              "      <td>1179</td>\n",
              "      <td>1364</td>\n",
              "      <td>1269</td>\n",
              "      <td>1550</td>\n",
              "      <td>...</td>\n",
              "      <td>677</td>\n",
              "      <td>609</td>\n",
              "      <td>418</td>\n",
              "      <td>381</td>\n",
              "      <td>416</td>\n",
              "      <td>417</td>\n",
              "      <td>53</td>\n",
              "      <td>5</td>\n",
              "      <td>417</td>\n",
              "      <td>1</td>\n",
              "    </tr>\n",
              "    <tr>\n",
              "      <th>3</th>\n",
              "      <td>3856</td>\n",
              "      <td>0.67</td>\n",
              "      <td>17304</td>\n",
              "      <td>474</td>\n",
              "      <td>404</td>\n",
              "      <td>419</td>\n",
              "      <td>430</td>\n",
              "      <td>459</td>\n",
              "      <td>414</td>\n",
              "      <td>514</td>\n",
              "      <td>...</td>\n",
              "      <td>333</td>\n",
              "      <td>347</td>\n",
              "      <td>247</td>\n",
              "      <td>228</td>\n",
              "      <td>322</td>\n",
              "      <td>389</td>\n",
              "      <td>74</td>\n",
              "      <td>6</td>\n",
              "      <td>111</td>\n",
              "      <td>1</td>\n",
              "    </tr>\n",
              "    <tr>\n",
              "      <th>4</th>\n",
              "      <td>7923</td>\n",
              "      <td>3.17</td>\n",
              "      <td>8400</td>\n",
              "      <td>1121</td>\n",
              "      <td>1028</td>\n",
              "      <td>1131</td>\n",
              "      <td>1073</td>\n",
              "      <td>1122</td>\n",
              "      <td>1141</td>\n",
              "      <td>1314</td>\n",
              "      <td>...</td>\n",
              "      <td>596</td>\n",
              "      <td>476</td>\n",
              "      <td>377</td>\n",
              "      <td>250</td>\n",
              "      <td>347</td>\n",
              "      <td>359</td>\n",
              "      <td>65</td>\n",
              "      <td>5</td>\n",
              "      <td>395</td>\n",
              "      <td>1</td>\n",
              "    </tr>\n",
              "  </tbody>\n",
              "</table>\n",
              "<p>5 rows × 29 columns</p>\n",
              "</div>\n",
              "      <button class=\"colab-df-convert\" onclick=\"convertToInteractive('df-66eb8e0d-d627-4e28-91b7-f17946d6a592')\"\n",
              "              title=\"Convert this dataframe to an interactive table.\"\n",
              "              style=\"display:none;\">\n",
              "        \n",
              "  <svg xmlns=\"http://www.w3.org/2000/svg\" height=\"24px\"viewBox=\"0 0 24 24\"\n",
              "       width=\"24px\">\n",
              "    <path d=\"M0 0h24v24H0V0z\" fill=\"none\"/>\n",
              "    <path d=\"M18.56 5.44l.94 2.06.94-2.06 2.06-.94-2.06-.94-.94-2.06-.94 2.06-2.06.94zm-11 1L8.5 8.5l.94-2.06 2.06-.94-2.06-.94L8.5 2.5l-.94 2.06-2.06.94zm10 10l.94 2.06.94-2.06 2.06-.94-2.06-.94-.94-2.06-.94 2.06-2.06.94z\"/><path d=\"M17.41 7.96l-1.37-1.37c-.4-.4-.92-.59-1.43-.59-.52 0-1.04.2-1.43.59L10.3 9.45l-7.72 7.72c-.78.78-.78 2.05 0 2.83L4 21.41c.39.39.9.59 1.41.59.51 0 1.02-.2 1.41-.59l7.78-7.78 2.81-2.81c.8-.78.8-2.07 0-2.86zM5.41 20L4 18.59l7.72-7.72 1.47 1.35L5.41 20z\"/>\n",
              "  </svg>\n",
              "      </button>\n",
              "      \n",
              "  <style>\n",
              "    .colab-df-container {\n",
              "      display:flex;\n",
              "      flex-wrap:wrap;\n",
              "      gap: 12px;\n",
              "    }\n",
              "\n",
              "    .colab-df-convert {\n",
              "      background-color: #E8F0FE;\n",
              "      border: none;\n",
              "      border-radius: 50%;\n",
              "      cursor: pointer;\n",
              "      display: none;\n",
              "      fill: #1967D2;\n",
              "      height: 32px;\n",
              "      padding: 0 0 0 0;\n",
              "      width: 32px;\n",
              "    }\n",
              "\n",
              "    .colab-df-convert:hover {\n",
              "      background-color: #E2EBFA;\n",
              "      box-shadow: 0px 1px 2px rgba(60, 64, 67, 0.3), 0px 1px 3px 1px rgba(60, 64, 67, 0.15);\n",
              "      fill: #174EA6;\n",
              "    }\n",
              "\n",
              "    [theme=dark] .colab-df-convert {\n",
              "      background-color: #3B4455;\n",
              "      fill: #D2E3FC;\n",
              "    }\n",
              "\n",
              "    [theme=dark] .colab-df-convert:hover {\n",
              "      background-color: #434B5C;\n",
              "      box-shadow: 0px 1px 3px 1px rgba(0, 0, 0, 0.15);\n",
              "      filter: drop-shadow(0px 1px 2px rgba(0, 0, 0, 0.3));\n",
              "      fill: #FFFFFF;\n",
              "    }\n",
              "  </style>\n",
              "\n",
              "      <script>\n",
              "        const buttonEl =\n",
              "          document.querySelector('#df-66eb8e0d-d627-4e28-91b7-f17946d6a592 button.colab-df-convert');\n",
              "        buttonEl.style.display =\n",
              "          google.colab.kernel.accessAllowed ? 'block' : 'none';\n",
              "\n",
              "        async function convertToInteractive(key) {\n",
              "          const element = document.querySelector('#df-66eb8e0d-d627-4e28-91b7-f17946d6a592');\n",
              "          const dataTable =\n",
              "            await google.colab.kernel.invokeFunction('convertToInteractive',\n",
              "                                                     [key], {});\n",
              "          if (!dataTable) return;\n",
              "\n",
              "          const docLinkHtml = 'Like what you see? Visit the ' +\n",
              "            '<a target=\"_blank\" href=https://colab.research.google.com/notebooks/data_table.ipynb>data table notebook</a>'\n",
              "            + ' to learn more about interactive tables.';\n",
              "          element.innerHTML = '';\n",
              "          dataTable['output_type'] = 'display_data';\n",
              "          await google.colab.output.renderOutput(dataTable, element);\n",
              "          const docLink = document.createElement('div');\n",
              "          docLink.innerHTML = docLinkHtml;\n",
              "          element.appendChild(docLink);\n",
              "        }\n",
              "      </script>\n",
              "    </div>\n",
              "  </div>\n",
              "  "
            ]
          },
          "metadata": {},
          "execution_count": 27
        }
      ]
    },
    {
      "cell_type": "code",
      "source": [
        "#statistik data\n",
        "dataframe.describe()"
      ],
      "metadata": {
        "id": "0Yre4LWKSX9Z",
        "colab": {
          "base_uri": "https://localhost:8080/",
          "height": 428
        },
        "outputId": "d2fb1aab-d3b4-4415-acf8-0043129432ef"
      },
      "execution_count": 28,
      "outputs": [
        {
          "output_type": "execute_result",
          "data": {
            "text/plain": [
              "          JUMLAH KK  LUAS WILAYAH (KM2)  KEPADATAN (JIWA/KM2)  \\\n",
              "count   1602.000000         1602.000000           1602.000000   \n",
              "mean   12275.988140            2.471493          23299.981273   \n",
              "std     7168.590751            2.077043          21311.336427   \n",
              "min      589.000000            0.262000            624.000000   \n",
              "25%     7721.750000            0.978000          12104.000000   \n",
              "50%    11575.500000            1.800000          17650.000000   \n",
              "75%    15274.500000            3.300000          29706.000000   \n",
              "max    52628.000000           13.070000         307643.000000   \n",
              "\n",
              "       15-19 Laki-Laki  15-19 Perempuan  20-24 Laki-Laki  20-24 Perempuan  \\\n",
              "count      1602.000000      1602.000000      1602.000000      1602.000000   \n",
              "mean       1440.598002      1383.159800      1541.311486      1406.730961   \n",
              "std         888.772316       863.085125      1145.260344       872.322083   \n",
              "min          12.000000        18.000000        22.000000        15.000000   \n",
              "25%         870.000000       824.500000       877.500000       861.250000   \n",
              "50%        1342.000000      1265.000000      1352.500000      1293.000000   \n",
              "75%        1826.000000      1746.750000      1883.000000      1764.750000   \n",
              "max        6875.000000      6339.000000     13214.000000      6528.000000   \n",
              "\n",
              "       25-29 Laki-Laki  25-29 Perempuan  30-34 Laki-Laki  ...  \\\n",
              "count      1602.000000      1602.000000      1602.000000  ...   \n",
              "mean       1507.578652      1623.976904      1782.927591  ...   \n",
              "std         956.546112      1134.404472      1149.840522  ...   \n",
              "min          14.000000        11.000000        18.000000  ...   \n",
              "25%         904.000000       935.000000      1046.000000  ...   \n",
              "50%        1363.000000      1433.000000      1604.500000  ...   \n",
              "75%        1900.250000      2020.000000      2280.000000  ...   \n",
              "max        7063.000000     11671.000000      8544.000000  ...   \n",
              "\n",
              "       55-59 Laki-Laki  55-59 Perempuan  60-64 Laki-Laki  60-64 Perempuan  \\\n",
              "count      1602.000000      1602.000000      1602.000000      1602.000000   \n",
              "mean        909.058052      1033.355805       663.734082       644.288390   \n",
              "std         593.560178      1068.552719       503.585813       468.984862   \n",
              "min          15.000000        12.000000        13.000000        13.000000   \n",
              "25%         569.000000       551.250000       388.250000       376.250000   \n",
              "50%         833.000000       830.000000       562.000000       557.000000   \n",
              "75%        1099.000000      1128.500000       781.750000       783.750000   \n",
              "max        6846.000000     14326.000000      6333.000000      5476.000000   \n",
              "\n",
              "       >65 Laki-Laki  >65 Perempuan    JUMLAH RT    JUMLAH RW  \\\n",
              "count    1602.000000    1602.000000  1602.000000  1602.000000   \n",
              "mean     1066.165418    1088.782147   114.797129    10.240949   \n",
              "std      1529.516682    1354.009679    51.765948     4.088572   \n",
              "min        30.000000      32.000000     9.000000     2.000000   \n",
              "25%       495.250000     527.000000    79.000000     7.000000   \n",
              "50%       745.500000     816.000000   110.000000    10.000000   \n",
              "75%      1062.000000    1145.750000   145.000000    13.000000   \n",
              "max     20243.000000   17517.000000   280.000000    27.000000   \n",
              "\n",
              "       JUMLAH KELAHIRAN        label  \n",
              "count       1602.000000  1602.000000  \n",
              "mean         541.750936     0.415106  \n",
              "std          352.507504     0.492894  \n",
              "min           20.000000     0.000000  \n",
              "25%          307.000000     0.000000  \n",
              "50%          479.000000     0.000000  \n",
              "75%          694.500000     1.000000  \n",
              "max         2491.000000     1.000000  \n",
              "\n",
              "[8 rows x 29 columns]"
            ],
            "text/html": [
              "\n",
              "  <div id=\"df-7e2f4965-50e8-46a6-8279-7c441c03723e\">\n",
              "    <div class=\"colab-df-container\">\n",
              "      <div>\n",
              "<style scoped>\n",
              "    .dataframe tbody tr th:only-of-type {\n",
              "        vertical-align: middle;\n",
              "    }\n",
              "\n",
              "    .dataframe tbody tr th {\n",
              "        vertical-align: top;\n",
              "    }\n",
              "\n",
              "    .dataframe thead th {\n",
              "        text-align: right;\n",
              "    }\n",
              "</style>\n",
              "<table border=\"1\" class=\"dataframe\">\n",
              "  <thead>\n",
              "    <tr style=\"text-align: right;\">\n",
              "      <th></th>\n",
              "      <th>JUMLAH KK</th>\n",
              "      <th>LUAS WILAYAH (KM2)</th>\n",
              "      <th>KEPADATAN (JIWA/KM2)</th>\n",
              "      <th>15-19 Laki-Laki</th>\n",
              "      <th>15-19 Perempuan</th>\n",
              "      <th>20-24 Laki-Laki</th>\n",
              "      <th>20-24 Perempuan</th>\n",
              "      <th>25-29 Laki-Laki</th>\n",
              "      <th>25-29 Perempuan</th>\n",
              "      <th>30-34 Laki-Laki</th>\n",
              "      <th>...</th>\n",
              "      <th>55-59 Laki-Laki</th>\n",
              "      <th>55-59 Perempuan</th>\n",
              "      <th>60-64 Laki-Laki</th>\n",
              "      <th>60-64 Perempuan</th>\n",
              "      <th>&gt;65 Laki-Laki</th>\n",
              "      <th>&gt;65 Perempuan</th>\n",
              "      <th>JUMLAH RT</th>\n",
              "      <th>JUMLAH RW</th>\n",
              "      <th>JUMLAH KELAHIRAN</th>\n",
              "      <th>label</th>\n",
              "    </tr>\n",
              "  </thead>\n",
              "  <tbody>\n",
              "    <tr>\n",
              "      <th>count</th>\n",
              "      <td>1602.000000</td>\n",
              "      <td>1602.000000</td>\n",
              "      <td>1602.000000</td>\n",
              "      <td>1602.000000</td>\n",
              "      <td>1602.000000</td>\n",
              "      <td>1602.000000</td>\n",
              "      <td>1602.000000</td>\n",
              "      <td>1602.000000</td>\n",
              "      <td>1602.000000</td>\n",
              "      <td>1602.000000</td>\n",
              "      <td>...</td>\n",
              "      <td>1602.000000</td>\n",
              "      <td>1602.000000</td>\n",
              "      <td>1602.000000</td>\n",
              "      <td>1602.000000</td>\n",
              "      <td>1602.000000</td>\n",
              "      <td>1602.000000</td>\n",
              "      <td>1602.000000</td>\n",
              "      <td>1602.000000</td>\n",
              "      <td>1602.000000</td>\n",
              "      <td>1602.000000</td>\n",
              "    </tr>\n",
              "    <tr>\n",
              "      <th>mean</th>\n",
              "      <td>12275.988140</td>\n",
              "      <td>2.471493</td>\n",
              "      <td>23299.981273</td>\n",
              "      <td>1440.598002</td>\n",
              "      <td>1383.159800</td>\n",
              "      <td>1541.311486</td>\n",
              "      <td>1406.730961</td>\n",
              "      <td>1507.578652</td>\n",
              "      <td>1623.976904</td>\n",
              "      <td>1782.927591</td>\n",
              "      <td>...</td>\n",
              "      <td>909.058052</td>\n",
              "      <td>1033.355805</td>\n",
              "      <td>663.734082</td>\n",
              "      <td>644.288390</td>\n",
              "      <td>1066.165418</td>\n",
              "      <td>1088.782147</td>\n",
              "      <td>114.797129</td>\n",
              "      <td>10.240949</td>\n",
              "      <td>541.750936</td>\n",
              "      <td>0.415106</td>\n",
              "    </tr>\n",
              "    <tr>\n",
              "      <th>std</th>\n",
              "      <td>7168.590751</td>\n",
              "      <td>2.077043</td>\n",
              "      <td>21311.336427</td>\n",
              "      <td>888.772316</td>\n",
              "      <td>863.085125</td>\n",
              "      <td>1145.260344</td>\n",
              "      <td>872.322083</td>\n",
              "      <td>956.546112</td>\n",
              "      <td>1134.404472</td>\n",
              "      <td>1149.840522</td>\n",
              "      <td>...</td>\n",
              "      <td>593.560178</td>\n",
              "      <td>1068.552719</td>\n",
              "      <td>503.585813</td>\n",
              "      <td>468.984862</td>\n",
              "      <td>1529.516682</td>\n",
              "      <td>1354.009679</td>\n",
              "      <td>51.765948</td>\n",
              "      <td>4.088572</td>\n",
              "      <td>352.507504</td>\n",
              "      <td>0.492894</td>\n",
              "    </tr>\n",
              "    <tr>\n",
              "      <th>min</th>\n",
              "      <td>589.000000</td>\n",
              "      <td>0.262000</td>\n",
              "      <td>624.000000</td>\n",
              "      <td>12.000000</td>\n",
              "      <td>18.000000</td>\n",
              "      <td>22.000000</td>\n",
              "      <td>15.000000</td>\n",
              "      <td>14.000000</td>\n",
              "      <td>11.000000</td>\n",
              "      <td>18.000000</td>\n",
              "      <td>...</td>\n",
              "      <td>15.000000</td>\n",
              "      <td>12.000000</td>\n",
              "      <td>13.000000</td>\n",
              "      <td>13.000000</td>\n",
              "      <td>30.000000</td>\n",
              "      <td>32.000000</td>\n",
              "      <td>9.000000</td>\n",
              "      <td>2.000000</td>\n",
              "      <td>20.000000</td>\n",
              "      <td>0.000000</td>\n",
              "    </tr>\n",
              "    <tr>\n",
              "      <th>25%</th>\n",
              "      <td>7721.750000</td>\n",
              "      <td>0.978000</td>\n",
              "      <td>12104.000000</td>\n",
              "      <td>870.000000</td>\n",
              "      <td>824.500000</td>\n",
              "      <td>877.500000</td>\n",
              "      <td>861.250000</td>\n",
              "      <td>904.000000</td>\n",
              "      <td>935.000000</td>\n",
              "      <td>1046.000000</td>\n",
              "      <td>...</td>\n",
              "      <td>569.000000</td>\n",
              "      <td>551.250000</td>\n",
              "      <td>388.250000</td>\n",
              "      <td>376.250000</td>\n",
              "      <td>495.250000</td>\n",
              "      <td>527.000000</td>\n",
              "      <td>79.000000</td>\n",
              "      <td>7.000000</td>\n",
              "      <td>307.000000</td>\n",
              "      <td>0.000000</td>\n",
              "    </tr>\n",
              "    <tr>\n",
              "      <th>50%</th>\n",
              "      <td>11575.500000</td>\n",
              "      <td>1.800000</td>\n",
              "      <td>17650.000000</td>\n",
              "      <td>1342.000000</td>\n",
              "      <td>1265.000000</td>\n",
              "      <td>1352.500000</td>\n",
              "      <td>1293.000000</td>\n",
              "      <td>1363.000000</td>\n",
              "      <td>1433.000000</td>\n",
              "      <td>1604.500000</td>\n",
              "      <td>...</td>\n",
              "      <td>833.000000</td>\n",
              "      <td>830.000000</td>\n",
              "      <td>562.000000</td>\n",
              "      <td>557.000000</td>\n",
              "      <td>745.500000</td>\n",
              "      <td>816.000000</td>\n",
              "      <td>110.000000</td>\n",
              "      <td>10.000000</td>\n",
              "      <td>479.000000</td>\n",
              "      <td>0.000000</td>\n",
              "    </tr>\n",
              "    <tr>\n",
              "      <th>75%</th>\n",
              "      <td>15274.500000</td>\n",
              "      <td>3.300000</td>\n",
              "      <td>29706.000000</td>\n",
              "      <td>1826.000000</td>\n",
              "      <td>1746.750000</td>\n",
              "      <td>1883.000000</td>\n",
              "      <td>1764.750000</td>\n",
              "      <td>1900.250000</td>\n",
              "      <td>2020.000000</td>\n",
              "      <td>2280.000000</td>\n",
              "      <td>...</td>\n",
              "      <td>1099.000000</td>\n",
              "      <td>1128.500000</td>\n",
              "      <td>781.750000</td>\n",
              "      <td>783.750000</td>\n",
              "      <td>1062.000000</td>\n",
              "      <td>1145.750000</td>\n",
              "      <td>145.000000</td>\n",
              "      <td>13.000000</td>\n",
              "      <td>694.500000</td>\n",
              "      <td>1.000000</td>\n",
              "    </tr>\n",
              "    <tr>\n",
              "      <th>max</th>\n",
              "      <td>52628.000000</td>\n",
              "      <td>13.070000</td>\n",
              "      <td>307643.000000</td>\n",
              "      <td>6875.000000</td>\n",
              "      <td>6339.000000</td>\n",
              "      <td>13214.000000</td>\n",
              "      <td>6528.000000</td>\n",
              "      <td>7063.000000</td>\n",
              "      <td>11671.000000</td>\n",
              "      <td>8544.000000</td>\n",
              "      <td>...</td>\n",
              "      <td>6846.000000</td>\n",
              "      <td>14326.000000</td>\n",
              "      <td>6333.000000</td>\n",
              "      <td>5476.000000</td>\n",
              "      <td>20243.000000</td>\n",
              "      <td>17517.000000</td>\n",
              "      <td>280.000000</td>\n",
              "      <td>27.000000</td>\n",
              "      <td>2491.000000</td>\n",
              "      <td>1.000000</td>\n",
              "    </tr>\n",
              "  </tbody>\n",
              "</table>\n",
              "<p>8 rows × 29 columns</p>\n",
              "</div>\n",
              "      <button class=\"colab-df-convert\" onclick=\"convertToInteractive('df-7e2f4965-50e8-46a6-8279-7c441c03723e')\"\n",
              "              title=\"Convert this dataframe to an interactive table.\"\n",
              "              style=\"display:none;\">\n",
              "        \n",
              "  <svg xmlns=\"http://www.w3.org/2000/svg\" height=\"24px\"viewBox=\"0 0 24 24\"\n",
              "       width=\"24px\">\n",
              "    <path d=\"M0 0h24v24H0V0z\" fill=\"none\"/>\n",
              "    <path d=\"M18.56 5.44l.94 2.06.94-2.06 2.06-.94-2.06-.94-.94-2.06-.94 2.06-2.06.94zm-11 1L8.5 8.5l.94-2.06 2.06-.94-2.06-.94L8.5 2.5l-.94 2.06-2.06.94zm10 10l.94 2.06.94-2.06 2.06-.94-2.06-.94-.94-2.06-.94 2.06-2.06.94z\"/><path d=\"M17.41 7.96l-1.37-1.37c-.4-.4-.92-.59-1.43-.59-.52 0-1.04.2-1.43.59L10.3 9.45l-7.72 7.72c-.78.78-.78 2.05 0 2.83L4 21.41c.39.39.9.59 1.41.59.51 0 1.02-.2 1.41-.59l7.78-7.78 2.81-2.81c.8-.78.8-2.07 0-2.86zM5.41 20L4 18.59l7.72-7.72 1.47 1.35L5.41 20z\"/>\n",
              "  </svg>\n",
              "      </button>\n",
              "      \n",
              "  <style>\n",
              "    .colab-df-container {\n",
              "      display:flex;\n",
              "      flex-wrap:wrap;\n",
              "      gap: 12px;\n",
              "    }\n",
              "\n",
              "    .colab-df-convert {\n",
              "      background-color: #E8F0FE;\n",
              "      border: none;\n",
              "      border-radius: 50%;\n",
              "      cursor: pointer;\n",
              "      display: none;\n",
              "      fill: #1967D2;\n",
              "      height: 32px;\n",
              "      padding: 0 0 0 0;\n",
              "      width: 32px;\n",
              "    }\n",
              "\n",
              "    .colab-df-convert:hover {\n",
              "      background-color: #E2EBFA;\n",
              "      box-shadow: 0px 1px 2px rgba(60, 64, 67, 0.3), 0px 1px 3px 1px rgba(60, 64, 67, 0.15);\n",
              "      fill: #174EA6;\n",
              "    }\n",
              "\n",
              "    [theme=dark] .colab-df-convert {\n",
              "      background-color: #3B4455;\n",
              "      fill: #D2E3FC;\n",
              "    }\n",
              "\n",
              "    [theme=dark] .colab-df-convert:hover {\n",
              "      background-color: #434B5C;\n",
              "      box-shadow: 0px 1px 3px 1px rgba(0, 0, 0, 0.15);\n",
              "      filter: drop-shadow(0px 1px 2px rgba(0, 0, 0, 0.3));\n",
              "      fill: #FFFFFF;\n",
              "    }\n",
              "  </style>\n",
              "\n",
              "      <script>\n",
              "        const buttonEl =\n",
              "          document.querySelector('#df-7e2f4965-50e8-46a6-8279-7c441c03723e button.colab-df-convert');\n",
              "        buttonEl.style.display =\n",
              "          google.colab.kernel.accessAllowed ? 'block' : 'none';\n",
              "\n",
              "        async function convertToInteractive(key) {\n",
              "          const element = document.querySelector('#df-7e2f4965-50e8-46a6-8279-7c441c03723e');\n",
              "          const dataTable =\n",
              "            await google.colab.kernel.invokeFunction('convertToInteractive',\n",
              "                                                     [key], {});\n",
              "          if (!dataTable) return;\n",
              "\n",
              "          const docLinkHtml = 'Like what you see? Visit the ' +\n",
              "            '<a target=\"_blank\" href=https://colab.research.google.com/notebooks/data_table.ipynb>data table notebook</a>'\n",
              "            + ' to learn more about interactive tables.';\n",
              "          element.innerHTML = '';\n",
              "          dataTable['output_type'] = 'display_data';\n",
              "          await google.colab.output.renderOutput(dataTable, element);\n",
              "          const docLink = document.createElement('div');\n",
              "          docLink.innerHTML = docLinkHtml;\n",
              "          element.appendChild(docLink);\n",
              "        }\n",
              "      </script>\n",
              "    </div>\n",
              "  </div>\n",
              "  "
            ]
          },
          "metadata": {},
          "execution_count": 28
        }
      ]
    },
    {
      "cell_type": "code",
      "source": [
        "#80% data untuk training, 20% data untuk validasi\n",
        "dataframe_validasi = dataframe.sample(frac=0.2, random_state=97)\n",
        "dataframe_training = dataframe.drop(dataframe_validasi.index)\n",
        "\n",
        "print(\"Training sample: {0}, Validasi sample: {1}\".format(len(dataframe_training), len(dataframe_validasi)))"
      ],
      "metadata": {
        "colab": {
          "base_uri": "https://localhost:8080/"
        },
        "id": "CCZ7w2HvHaxP",
        "outputId": "b03141b5-e29f-4e68-9385-2abac45e73e3"
      },
      "execution_count": 29,
      "outputs": [
        {
          "output_type": "stream",
          "name": "stdout",
          "text": [
            "Training sample: 1282, Validasi sample: 320\n"
          ]
        }
      ]
    },
    {
      "cell_type": "markdown",
      "source": [
        "# Bentuk Dataset"
      ],
      "metadata": {
        "id": "3niMAMOaIJbO"
      }
    },
    {
      "cell_type": "code",
      "source": [
        "#membuat dataset tensorflow dari dataframe\n",
        "def dataframe_ke_dataset(dataframe):\n",
        "    dataframe = dataframe.copy()\n",
        "\n",
        "    #ambil dan hilangkan kolom label dari data training dan validasi\n",
        "    labels = dataframe.pop(\"label\")\n",
        "\n",
        "    #bentuk dataset tensorflow\n",
        "    ds = tf.data.Dataset.from_tensor_slices((dict(dataframe), labels))\n",
        "    \n",
        "    #acak dataset\n",
        "    ds = ds.shuffle(buffer_size=len(dataframe))\n",
        "    return ds\n",
        "\n",
        "#bentuk dataset untuk training dan validasi\n",
        "dataset_training = dataframe_ke_dataset(dataframe_training)\n",
        "dataset_validasi = dataframe_ke_dataset(dataframe_validasi)"
      ],
      "metadata": {
        "id": "GgXpKcinILB0"
      },
      "execution_count": 30,
      "outputs": []
    },
    {
      "cell_type": "code",
      "source": [
        "for x, y in dataset_training.take(1):\n",
        "    print(\"Input:\", x)\n",
        "    print(\"Target:\", y)"
      ],
      "metadata": {
        "colab": {
          "base_uri": "https://localhost:8080/"
        },
        "id": "Nad2qmOrIO__",
        "outputId": "faf6bec3-7efd-4dcd-dfb6-5803bf6fc3f6"
      },
      "execution_count": 31,
      "outputs": [
        {
          "output_type": "stream",
          "name": "stdout",
          "text": [
            "Input: {'JUMLAH KK': <tf.Tensor: shape=(), dtype=int64, numpy=20542>, 'LUAS WILAYAH (KM2)': <tf.Tensor: shape=(), dtype=float64, numpy=2.6783>, 'KEPADATAN (JIWA/KM2)': <tf.Tensor: shape=(), dtype=int64, numpy=24634>, '15-19 Laki-Laki': <tf.Tensor: shape=(), dtype=int64, numpy=2512>, '15-19 Perempuan': <tf.Tensor: shape=(), dtype=int64, numpy=2444>, '20-24 Laki-Laki': <tf.Tensor: shape=(), dtype=int64, numpy=2325>, '20-24 Perempuan': <tf.Tensor: shape=(), dtype=int64, numpy=2328>, '25-29 Laki-Laki': <tf.Tensor: shape=(), dtype=int64, numpy=2512>, '25-29 Perempuan': <tf.Tensor: shape=(), dtype=int64, numpy=2590>, '30-34 Laki-Laki': <tf.Tensor: shape=(), dtype=int64, numpy=3175>, '30-34 Perempuan': <tf.Tensor: shape=(), dtype=int64, numpy=3154>, '35-39 Laki-Laki': <tf.Tensor: shape=(), dtype=int64, numpy=3173>, '35-39 Perempuan': <tf.Tensor: shape=(), dtype=int64, numpy=3068>, '40-44 Laki-Laki': <tf.Tensor: shape=(), dtype=int64, numpy=2871>, '40-44 Perempuan': <tf.Tensor: shape=(), dtype=int64, numpy=2800>, '45-49 Laki-Laki': <tf.Tensor: shape=(), dtype=int64, numpy=2424>, '45-49 Perempuan': <tf.Tensor: shape=(), dtype=int64, numpy=1880>, '50-54 Laki-Laki': <tf.Tensor: shape=(), dtype=int64, numpy=2275>, '50-54 Perempuan': <tf.Tensor: shape=(), dtype=int64, numpy=1879>, '55-59 Laki-Laki': <tf.Tensor: shape=(), dtype=int64, numpy=1275>, '55-59 Perempuan': <tf.Tensor: shape=(), dtype=int64, numpy=1308>, '60-64 Laki-Laki': <tf.Tensor: shape=(), dtype=int64, numpy=897>, '60-64 Perempuan': <tf.Tensor: shape=(), dtype=int64, numpy=849>, '>65 Laki-Laki': <tf.Tensor: shape=(), dtype=int64, numpy=1109>, '>65 Perempuan': <tf.Tensor: shape=(), dtype=int64, numpy=1146>, 'JUMLAH RT': <tf.Tensor: shape=(), dtype=int64, numpy=146>, 'JUMLAH RW': <tf.Tensor: shape=(), dtype=int64, numpy=11>, 'JUMLAH KELAHIRAN': <tf.Tensor: shape=(), dtype=int64, numpy=969>}\n",
            "Target: tf.Tensor(0, shape=(), dtype=int64)\n"
          ]
        }
      ]
    },
    {
      "cell_type": "code",
      "source": [
        "#batching data untuk training nanti\n",
        "dataset_training = dataset_training.batch(16)\n",
        "dataset_validasi = dataset_validasi.batch(16)"
      ],
      "metadata": {
        "id": "Fq6rzJwnVCFT"
      },
      "execution_count": 32,
      "outputs": []
    },
    {
      "cell_type": "code",
      "source": [
        "from tensorflow.keras.layers import Normalization\n",
        "\n",
        "#normalisasi fitur agar berada pada range 0-1\n",
        "def normalisasi_fitur(feature, name, dataset):\n",
        "    #instantiasi objek normalisasi\n",
        "    normalizer = Normalization()\n",
        "\n",
        "    #ambil fitur/kolom yang diinginkan\n",
        "    fitur = dataset.map(lambda x, y: x[name])\n",
        "    fitur = fitur.map(lambda x: tf.expand_dims(x, -1))\n",
        "\n",
        "    #Lakukan normalisasi\n",
        "    normalizer.adapt(fitur)\n",
        "    normalized_feature = normalizer(feature)\n",
        "\n",
        "    return normalized_feature"
      ],
      "metadata": {
        "id": "vJY2QnUnVHgo"
      },
      "execution_count": 33,
      "outputs": []
    },
    {
      "cell_type": "markdown",
      "source": [
        "# Neural Network"
      ],
      "metadata": {
        "id": "jndwPmv5z8hW"
      }
    },
    {
      "cell_type": "markdown",
      "source": [
        "## Membentuk Evaluation Metrics dan Handle Class Imbalance"
      ],
      "metadata": {
        "id": "FSeWMxqwxCYL"
      }
    },
    {
      "cell_type": "code",
      "source": [
        "from keras import backend as K\n",
        "\n",
        "#membuat metrics f1 score custom (karena tidak tersedia di keras.metrics)\n",
        "def f1_score(y_true,y_pred):\n",
        "    true_positives = K.sum(K.round(K.clip(y_true * y_pred, 0, 1)))\n",
        "    tp_plus_fn = K.sum(K.round(K.clip(y_true, 0, 1)))\n",
        "    recall = true_positives / (tp_plus_fn + K.epsilon())\n",
        "\n",
        "    tp_plus_fp = K.sum(K.round(K.clip(y_pred, 0, 1)))\n",
        "    precision = true_positives / (tp_plus_fp + K.epsilon())\n",
        "\n",
        "    return ((2*precision*recall)/(precision+recall))\n",
        "\n",
        "#seluruh metrics yang dievaluasi\n",
        "metrics = [\n",
        "    keras.metrics.Precision(name=\"precision\"),\n",
        "    keras.metrics.Recall(name=\"recall\"),\n",
        "    'accuracy',\n",
        "    f1_score\n",
        "]\n",
        "\n",
        "#menghandle class imbalance\n",
        "counts = np.bincount(dataframe_training['label'])\n",
        "weight_for_0 = 1.0 / counts[0]\n",
        "weight_for_1 = 1.0 / counts[1]\n",
        "class_weight = {0: weight_for_0, 1: weight_for_1}\n",
        "class_weight"
      ],
      "metadata": {
        "colab": {
          "base_uri": "https://localhost:8080/"
        },
        "id": "zoxynEvST3Z5",
        "outputId": "3d33ecf5-06d6-4614-bed2-44bbab284f1f"
      },
      "execution_count": 34,
      "outputs": [
        {
          "output_type": "execute_result",
          "data": {
            "text/plain": [
              "{0: 0.0013297872340425532, 1: 0.0018867924528301887}"
            ]
          },
          "metadata": {},
          "execution_count": 34
        }
      ]
    },
    {
      "cell_type": "markdown",
      "source": [
        "## Persiapan Fitur "
      ],
      "metadata": {
        "id": "2rZTNZ3LxLZ_"
      }
    },
    {
      "cell_type": "code",
      "source": [
        "#Inisiasi seluruh input\n",
        "jumlah_kk = keras.Input(shape=(1,), name=\"JUMLAH KK\")\n",
        "luas_wilayah_km2 = keras.Input(shape=(1,), name=\"LUAS WILAYAH (KM2)\")\n",
        "kepadatan = keras.Input(shape=(1,), name=\"KEPADATAN (JIWA/KM2)\")\n",
        "limabelas_sembilanbelas_lakilaki = keras.Input(shape=(1,), name=\"15-19 Laki-Laki\")\n",
        "limabelas_sembilanbelas_perempuan = keras.Input(shape=(1,), name=\"15-19 Perempuan\")\n",
        "duapuluh_duaempat_lakilaki = keras.Input(shape=(1,), name=\"20-24 Laki-Laki\")\n",
        "duapuluh_duaempat_perempuan = keras.Input(shape=(1,), name=\"20-24 Perempuan\")\n",
        "dualima_duasembilan_lakilaki = keras.Input(shape=(1,), name=\"25-29 Laki-Laki\")\n",
        "dualima_duasembilan_perempuan = keras.Input(shape=(1,), name=\"25-29 Perempuan\")\n",
        "tigapuluh_tigaempat_lakilaki = keras.Input(shape=(1,), name=\"30-34 Laki-Laki\")\n",
        "tigapuluh_tigaempat_perempuan = keras.Input(shape=(1,), name=\"30-34 Perempuan\")\n",
        "tigalima_tigasembilan_lakilaki = keras.Input(shape=(1,), name=\"35-39 Laki-Laki\")\n",
        "tigalima_tigasembilan_perempuan = keras.Input(shape=(1,), name=\"35-39 Perempuan\")\n",
        "empatpuluh_empatempat_lakilaki = keras.Input(shape=(1,), name=\"40-44 Laki-Laki\")\n",
        "empatpuluh_empatempat_perempuan = keras.Input(shape=(1,), name=\"40-44 Perempuan\")\n",
        "empatlima_empatsembilan_lakilaki = keras.Input(shape=(1,), name=\"45-49 Laki-Laki\")\n",
        "empatlima_empatsembilan_perempuan = keras.Input(shape=(1,), name=\"45-49 Perempuan\")\n",
        "limapuluh_limaempat_lakilaki = keras.Input(shape=(1,), name=\"50-54 Laki-Laki\")\n",
        "limapuluh_limaempat_perempuan = keras.Input(shape=(1,), name=\"50-54 Perempuan\")\n",
        "limalima_limasembilan_lakilaki = keras.Input(shape=(1,), name=\"55-59 Laki-Laki\")\n",
        "limalima_limasembilan_perempuan = keras.Input(shape=(1,), name=\"55-59 Perempuan\")\n",
        "enampuluh_enamempat_lakilaki = keras.Input(shape=(1,), name=\"60-64 Laki-Laki\")\n",
        "enampuluh_enamempat_perempuan = keras.Input(shape=(1,), name=\"60-64 Perempuan\")\n",
        "enamlima_lakilaki = keras.Input(shape=(1,), name=\">65 Laki-Laki\")\n",
        "enamlima_perempuan = keras.Input(shape=(1,), name=\">65 Perempuan\")\n",
        "RT = keras.Input(shape=(1,), name=\"JUMLAH RT\")\n",
        "RW = keras.Input(shape=(1,), name=\"JUMLAH RW\")\n",
        "KELAHIRAN = keras.Input(shape=(1,), name=\"JUMLAH KELAHIRAN\")\n",
        "\n",
        "#list seluruh input\n",
        "all_inputs = [\n",
        "  jumlah_kk,\n",
        "  luas_wilayah_km2,\n",
        "  kepadatan,\n",
        "  limabelas_sembilanbelas_lakilaki,\n",
        "  limabelas_sembilanbelas_perempuan,\n",
        "  duapuluh_duaempat_lakilaki,\n",
        "  duapuluh_duaempat_perempuan,\n",
        "  dualima_duasembilan_lakilaki,\n",
        "  dualima_duasembilan_perempuan,\n",
        "  tigapuluh_tigaempat_lakilaki,\n",
        "  tigapuluh_tigaempat_perempuan,\n",
        "  tigalima_tigasembilan_lakilaki,\n",
        "  tigalima_tigasembilan_perempuan,\n",
        "  empatpuluh_empatempat_lakilaki,\n",
        "  empatpuluh_empatempat_perempuan,\n",
        "  empatlima_empatsembilan_lakilaki,\n",
        "  empatlima_empatsembilan_perempuan,\n",
        "  limapuluh_limaempat_lakilaki,\n",
        "  limapuluh_limaempat_perempuan,\n",
        "  limalima_limasembilan_lakilaki,\n",
        "  limalima_limasembilan_perempuan,\n",
        "  enampuluh_enamempat_lakilaki,\n",
        "  enampuluh_enamempat_perempuan,\n",
        "  enamlima_lakilaki,\n",
        "  enamlima_perempuan,\n",
        "  RT,\n",
        "  RW,\n",
        "  KELAHIRAN\n",
        "]\n",
        "\n",
        "#normalisasi input yang sudah dibuat di atas sesuai dengan dataset training\n",
        "jumlah_kk_normalized= normalisasi_fitur(jumlah_kk,\"JUMLAH KK\",dataset_training)\t\n",
        "luas_wilayah_km2_normalized = normalisasi_fitur(luas_wilayah_km2,\"LUAS WILAYAH (KM2)\",dataset_training)\t\n",
        "kepadatan_normalized = normalisasi_fitur(kepadatan,\"KEPADATAN (JIWA/KM2)\",dataset_training)\t\n",
        "limabelas_sembilanbelas_lakilaki_normalized = normalisasi_fitur(limabelas_sembilanbelas_lakilaki,\"15-19 Laki-Laki\",dataset_training)\t\n",
        "limabelas_sembilanbelas_perempuan_normalized = normalisasi_fitur(limabelas_sembilanbelas_perempuan,\"15-19 Perempuan\",dataset_training)\t\n",
        "duapuluh_duaempat_lakilaki_normalized = normalisasi_fitur(duapuluh_duaempat_lakilaki,\"20-24 Laki-Laki\",dataset_training)\t\n",
        "duapuluh_duaempat_perempuan_normalized = normalisasi_fitur(duapuluh_duaempat_perempuan,\"20-24 Perempuan\",dataset_training)\t\n",
        "dualima_duasembilan_lakilaki_normalized = normalisasi_fitur(dualima_duasembilan_lakilaki,\"25-29 Laki-Laki\",dataset_training)\t\n",
        "dualima_duasembilan_perempuan_normalized = normalisasi_fitur(dualima_duasembilan_perempuan,\"25-29 Perempuan\",dataset_training)\t\n",
        "tigapuluh_tigaempat_lakilaki_normalized = normalisasi_fitur(tigapuluh_tigaempat_lakilaki,\"30-34 Laki-Laki\",dataset_training)\t\n",
        "tigapuluh_tigaempat_perempuan_normalized = normalisasi_fitur(tigapuluh_tigaempat_perempuan,\"30-34 Perempuan\",dataset_training)\t\n",
        "tigalima_tigasembilan_lakilaki_normalized = normalisasi_fitur(tigalima_tigasembilan_lakilaki,\"35-39 Laki-Laki\",dataset_training)\t\n",
        "tigalima_tigasembilan_perempuan_normalized = normalisasi_fitur(tigalima_tigasembilan_perempuan,\"35-39 Perempuan\",dataset_training)\t\n",
        "empatpuluh_empatempat_lakilaki_normalized = normalisasi_fitur(empatpuluh_empatempat_lakilaki,\"40-44 Laki-Laki\",dataset_training)\t\n",
        "empatpuluh_empatempat_perempuan_normalized = normalisasi_fitur(empatpuluh_empatempat_perempuan,\"40-44 Perempuan\",dataset_training)\t\n",
        "empatlima_empatsembilan_lakilaki_normalized = normalisasi_fitur(empatlima_empatsembilan_lakilaki,\"45-49 Laki-Laki\",dataset_training)\t\n",
        "empatlima_empatsembilan_perempuan_normalized = normalisasi_fitur(empatlima_empatsembilan_perempuan,\"45-49 Perempuan\",dataset_training)\t\n",
        "limapuluh_limaempat_lakilaki_normalized = normalisasi_fitur(limapuluh_limaempat_lakilaki,\"50-54 Laki-Laki\",dataset_training)\t\n",
        "limapuluh_limaempat_perempuan_normalized = normalisasi_fitur(limapuluh_limaempat_perempuan,\"50-54 Perempuan\",dataset_training)\t\n",
        "limalima_limasembilan_lakilaki_normalized = normalisasi_fitur(limalima_limasembilan_lakilaki,\"55-59 Laki-Laki\",dataset_training)\t\n",
        "limalima_limasembilan_perempuan_normalized = normalisasi_fitur(limalima_limasembilan_perempuan,\"55-59 Perempuan\",dataset_training)\t\n",
        "enampuluh_enamempat_lakilaki_normalized = normalisasi_fitur(enampuluh_enamempat_lakilaki,\"60-64 Laki-Laki\",dataset_training)\t\n",
        "enampuluh_enamempat_perempuan_normalized = normalisasi_fitur(enampuluh_enamempat_perempuan,\"60-64 Perempuan\",dataset_training)\t\t\n",
        "enamlima_lakilaki_normalized = normalisasi_fitur(enamlima_lakilaki,\">65 Laki-Laki\",dataset_training)\t\n",
        "enamlima_perempuan_normalized = normalisasi_fitur(enamlima_perempuan,\">65 Perempuan\",dataset_training)\t\n",
        "RT_normalized = normalisasi_fitur(RT,\"JUMLAH RT\",dataset_training)\t\n",
        "RW_normalized = normalisasi_fitur(RW,\"JUMLAH RW\",dataset_training)\t\n",
        "KELAHIRAN_normalized = normalisasi_fitur(KELAHIRAN,\"JUMLAH KELAHIRAN\",dataset_training)\n",
        "\n",
        "#seluruh input yang sudah dinormalisasi dikonkatenasi menjadi satu layer\n",
        "all_features = layers.concatenate(\n",
        "    [\n",
        "        jumlah_kk_normalized,\n",
        "        luas_wilayah_km2_normalized,\n",
        "        kepadatan_normalized,\n",
        "        limabelas_sembilanbelas_lakilaki_normalized,\n",
        "        limabelas_sembilanbelas_perempuan_normalized,\n",
        "        duapuluh_duaempat_lakilaki_normalized,\n",
        "        duapuluh_duaempat_perempuan_normalized,\n",
        "        dualima_duasembilan_lakilaki_normalized,\n",
        "        dualima_duasembilan_perempuan_normalized,\n",
        "        tigapuluh_tigaempat_lakilaki_normalized,\n",
        "        tigapuluh_tigaempat_perempuan_normalized,\n",
        "        tigalima_tigasembilan_lakilaki_normalized,\n",
        "        tigalima_tigasembilan_perempuan_normalized,\n",
        "        empatpuluh_empatempat_lakilaki_normalized,\n",
        "        empatpuluh_empatempat_perempuan_normalized,\n",
        "        empatlima_empatsembilan_lakilaki_normalized,\n",
        "        empatlima_empatsembilan_perempuan_normalized,\n",
        "        limapuluh_limaempat_lakilaki_normalized,\n",
        "        limapuluh_limaempat_perempuan_normalized,\n",
        "        limalima_limasembilan_lakilaki_normalized,\n",
        "        limalima_limasembilan_perempuan_normalized,\n",
        "        enampuluh_enamempat_lakilaki_normalized,\n",
        "        enampuluh_enamempat_perempuan_normalized,\n",
        "        enamlima_lakilaki_normalized,\n",
        "        enamlima_perempuan_normalized,\n",
        "        RT_normalized,\n",
        "        RW_normalized,\n",
        "        KELAHIRAN_normalized\n",
        "    ]\n",
        ")"
      ],
      "metadata": {
        "id": "39lKyYIbY4Hh"
      },
      "execution_count": 35,
      "outputs": []
    },
    {
      "cell_type": "markdown",
      "source": [
        "## Modeling dan Training"
      ],
      "metadata": {
        "id": "FX0LL_ofxOHS"
      }
    },
    {
      "cell_type": "code",
      "source": [
        "#Implementasi neural network di tensorflow keras\n",
        "hidden_layer = layers.Dense(32, activation=\"relu\")(all_features)\n",
        "hidden_layer = layers.Dense(16, activation=\"relu\")(hidden_layer)\n",
        "hidden_layer = layers.Dropout(0.5)(hidden_layer)\n",
        "output = layers.Dense(1, activation=\"sigmoid\")(hidden_layer)\n",
        "model = keras.Model(all_inputs, output)\n",
        "model.compile(\"adam\", \"binary_crossentropy\", metrics=metrics)\n",
        "callback = [\n",
        "            keras.callbacks.ModelCheckpoint(\"/content/drive/MyDrive/DemoDay/model/neural_network.hdf5\", monitor=\"val_f1_score\", save_best_only=True),\n",
        "            keras.callbacks.EarlyStopping(patience=10, verbose=1, monitor=\"val_f1_score\")\n",
        "          ]\n",
        "model.fit(dataset_training, epochs=50, validation_data=dataset_validasi, class_weight=class_weight,callbacks=callback)"
      ],
      "metadata": {
        "colab": {
          "base_uri": "https://localhost:8080/"
        },
        "id": "7uqMpPUnHlzd",
        "outputId": "579374c9-649c-4cb4-cdfa-d81b718d783a"
      },
      "execution_count": 36,
      "outputs": [
        {
          "output_type": "stream",
          "name": "stdout",
          "text": [
            "Epoch 1/50\n",
            "81/81 [==============================] - 3s 18ms/step - loss: 9.1733e-04 - precision: 0.5817 - recall: 0.8057 - accuracy: 0.6802 - f1_score: 0.6678 - val_loss: 0.4363 - val_precision: 0.6940 - val_recall: 0.9407 - val_accuracy: 0.8000 - val_f1_score: 0.7974\n",
            "Epoch 2/50\n",
            "81/81 [==============================] - 1s 6ms/step - loss: 7.5890e-04 - precision: 0.7054 - recall: 0.8132 - accuracy: 0.7824 - f1_score: 0.7429 - val_loss: 0.4027 - val_precision: 0.7267 - val_recall: 0.9259 - val_accuracy: 0.8219 - val_f1_score: 0.8023\n",
            "Epoch 3/50\n",
            "81/81 [==============================] - 1s 6ms/step - loss: 6.8910e-04 - precision: 0.7397 - recall: 0.8094 - accuracy: 0.8034 - f1_score: nan - val_loss: 0.3595 - val_precision: 0.7607 - val_recall: 0.9185 - val_accuracy: 0.8438 - val_f1_score: 0.8121\n",
            "Epoch 4/50\n",
            "81/81 [==============================] - 1s 6ms/step - loss: 6.5321e-04 - precision: 0.7702 - recall: 0.7906 - accuracy: 0.8159 - f1_score: nan - val_loss: 0.3344 - val_precision: 0.7799 - val_recall: 0.9185 - val_accuracy: 0.8562 - val_f1_score: 0.8237\n",
            "Epoch 5/50\n",
            "81/81 [==============================] - 1s 6ms/step - loss: 5.9428e-04 - precision: 0.7886 - recall: 0.8377 - accuracy: 0.8401 - f1_score: 0.8047 - val_loss: 0.3165 - val_precision: 0.8013 - val_recall: 0.9259 - val_accuracy: 0.8719 - val_f1_score: 0.8538\n",
            "Epoch 6/50\n",
            "81/81 [==============================] - 0s 6ms/step - loss: 5.8969e-04 - precision: 0.8026 - recall: 0.8283 - accuracy: 0.8448 - f1_score: 0.8075 - val_loss: 0.3129 - val_precision: 0.7962 - val_recall: 0.9259 - val_accuracy: 0.8687 - val_f1_score: 0.8551\n",
            "Epoch 7/50\n",
            "81/81 [==============================] - 1s 6ms/step - loss: 5.5197e-04 - precision: 0.8061 - recall: 0.8472 - accuracy: 0.8526 - f1_score: 0.8205 - val_loss: 0.2925 - val_precision: 0.8105 - val_recall: 0.9185 - val_accuracy: 0.8750 - val_f1_score: 0.8482\n",
            "Epoch 8/50\n",
            "81/81 [==============================] - 1s 6ms/step - loss: 5.2748e-04 - precision: 0.8141 - recall: 0.8509 - accuracy: 0.8580 - f1_score: 0.8275 - val_loss: 0.2939 - val_precision: 0.8065 - val_recall: 0.9259 - val_accuracy: 0.8750 - val_f1_score: 0.8559\n",
            "Epoch 9/50\n",
            "81/81 [==============================] - 0s 6ms/step - loss: 5.3241e-04 - precision: 0.8110 - recall: 0.8660 - accuracy: 0.8612 - f1_score: 0.8236 - val_loss: 0.2990 - val_precision: 0.8065 - val_recall: 0.9259 - val_accuracy: 0.8750 - val_f1_score: 0.8539\n",
            "Epoch 10/50\n",
            "81/81 [==============================] - 1s 6ms/step - loss: 5.3966e-04 - precision: 0.8262 - recall: 0.8434 - accuracy: 0.8619 - f1_score: 0.8272 - val_loss: 0.2924 - val_precision: 0.8065 - val_recall: 0.9259 - val_accuracy: 0.8750 - val_f1_score: 0.8565\n",
            "Epoch 11/50\n",
            "81/81 [==============================] - 1s 6ms/step - loss: 4.9700e-04 - precision: 0.8142 - recall: 0.8849 - accuracy: 0.8690 - f1_score: 0.8396 - val_loss: 0.2864 - val_precision: 0.8117 - val_recall: 0.9259 - val_accuracy: 0.8781 - val_f1_score: 0.8551\n",
            "Epoch 11: early stopping\n"
          ]
        },
        {
          "output_type": "execute_result",
          "data": {
            "text/plain": [
              "<keras.callbacks.History at 0x7f5af12ed950>"
            ]
          },
          "metadata": {},
          "execution_count": 36
        }
      ]
    },
    {
      "cell_type": "markdown",
      "source": [
        "# Testing ke Data 2019"
      ],
      "metadata": {
        "id": "ne7uzN7xxb06"
      }
    },
    {
      "cell_type": "code",
      "source": [
        "#mengatur jumlah kematian yang di bawah 150 adalah label 0, dan di atas 150 adalah label 1\n",
        "label = dataframe_2019['JUMLAH KEMATIAN'] < 150\n",
        "label_01 = label.apply(lambda x: 1 if x else 0)\n",
        "dataframe_2019['label'] = label_01\n",
        "\n",
        "#menghapus kolom-kolom data yang tidak digunakan\n",
        "dataframe_2019 = dataframe_2019.drop(['JUMLAH KEMATIAN'], axis=1)\n",
        "dataframe_2019=dataframe_2019.drop(['TAHUN'],axis=1)\n",
        "dataframe_2019=dataframe_2019.drop(['NAMA PROVINSI'],axis=1)\n",
        "dataframe_2019=dataframe_2019.drop(['NAMA KABUPATEN/KOTA'],axis=1)\n",
        "dataframe_2019=dataframe_2019.drop(['NAMA KECAMATAN'],axis=1)\n",
        "dataframe_2019=dataframe_2019.drop(['NAMA KELURAHAN'],axis=1)"
      ],
      "metadata": {
        "id": "4poreRRnWsSM"
      },
      "execution_count": 37,
      "outputs": []
    },
    {
      "cell_type": "code",
      "source": [
        "#fungsi mengubah dataframe ke dataset namun tanpa ada pengacakan baris\n",
        "def dataframe_ke_dataset_tanpa_shuffle(dataframe):\n",
        "    dataframe = dataframe.copy()\n",
        "\n",
        "    #ambil dan hilangkan kolom label dari data training dan validasi\n",
        "    labels = dataframe.pop(\"label\")\n",
        "\n",
        "    #membentuk dataset\n",
        "    dataset = tf.data.Dataset.from_tensor_slices((dict(dataframe), labels))\n",
        "    \n",
        "    return dataset\n",
        "\n",
        "dataset_testing = dataframe_ke_dataset_tanpa_shuffle(dataframe_2019)"
      ],
      "metadata": {
        "id": "VI3mBodjWukJ"
      },
      "execution_count": 38,
      "outputs": []
    },
    {
      "cell_type": "code",
      "source": [
        "#prediksi dengan data 2019\n",
        "prediction_2019 = 100*model.predict(dataset_testing)\n",
        "prediction_2019[1:5]"
      ],
      "metadata": {
        "colab": {
          "base_uri": "https://localhost:8080/"
        },
        "id": "H_mW-UfhWwAj",
        "outputId": "fdc5e9a8-1fa0-4fcb-9fd2-44006d253953"
      },
      "execution_count": 39,
      "outputs": [
        {
          "output_type": "stream",
          "name": "stdout",
          "text": [
            "WARNING:tensorflow:Model was constructed with shape (None, 1) for input KerasTensor(type_spec=TensorSpec(shape=(None, 1), dtype=tf.float32, name='JUMLAH KK'), name='JUMLAH KK', description=\"created by layer 'JUMLAH KK'\"), but it was called on an input with incompatible shape ().\n",
            "WARNING:tensorflow:Model was constructed with shape (None, 1) for input KerasTensor(type_spec=TensorSpec(shape=(None, 1), dtype=tf.float32, name='LUAS WILAYAH (KM2)'), name='LUAS WILAYAH (KM2)', description=\"created by layer 'LUAS WILAYAH (KM2)'\"), but it was called on an input with incompatible shape ().\n",
            "WARNING:tensorflow:Model was constructed with shape (None, 1) for input KerasTensor(type_spec=TensorSpec(shape=(None, 1), dtype=tf.float32, name='KEPADATAN (JIWA/KM2)'), name='KEPADATAN (JIWA/KM2)', description=\"created by layer 'KEPADATAN (JIWA/KM2)'\"), but it was called on an input with incompatible shape ().\n",
            "WARNING:tensorflow:Model was constructed with shape (None, 1) for input KerasTensor(type_spec=TensorSpec(shape=(None, 1), dtype=tf.float32, name='15-19 Laki-Laki'), name='15-19 Laki-Laki', description=\"created by layer '15-19 Laki-Laki'\"), but it was called on an input with incompatible shape ().\n",
            "WARNING:tensorflow:Model was constructed with shape (None, 1) for input KerasTensor(type_spec=TensorSpec(shape=(None, 1), dtype=tf.float32, name='15-19 Perempuan'), name='15-19 Perempuan', description=\"created by layer '15-19 Perempuan'\"), but it was called on an input with incompatible shape ().\n",
            "WARNING:tensorflow:Model was constructed with shape (None, 1) for input KerasTensor(type_spec=TensorSpec(shape=(None, 1), dtype=tf.float32, name='20-24 Laki-Laki'), name='20-24 Laki-Laki', description=\"created by layer '20-24 Laki-Laki'\"), but it was called on an input with incompatible shape ().\n",
            "WARNING:tensorflow:Model was constructed with shape (None, 1) for input KerasTensor(type_spec=TensorSpec(shape=(None, 1), dtype=tf.float32, name='20-24 Perempuan'), name='20-24 Perempuan', description=\"created by layer '20-24 Perempuan'\"), but it was called on an input with incompatible shape ().\n",
            "WARNING:tensorflow:Model was constructed with shape (None, 1) for input KerasTensor(type_spec=TensorSpec(shape=(None, 1), dtype=tf.float32, name='25-29 Laki-Laki'), name='25-29 Laki-Laki', description=\"created by layer '25-29 Laki-Laki'\"), but it was called on an input with incompatible shape ().\n",
            "WARNING:tensorflow:Model was constructed with shape (None, 1) for input KerasTensor(type_spec=TensorSpec(shape=(None, 1), dtype=tf.float32, name='25-29 Perempuan'), name='25-29 Perempuan', description=\"created by layer '25-29 Perempuan'\"), but it was called on an input with incompatible shape ().\n",
            "WARNING:tensorflow:Model was constructed with shape (None, 1) for input KerasTensor(type_spec=TensorSpec(shape=(None, 1), dtype=tf.float32, name='30-34 Laki-Laki'), name='30-34 Laki-Laki', description=\"created by layer '30-34 Laki-Laki'\"), but it was called on an input with incompatible shape ().\n",
            "WARNING:tensorflow:Model was constructed with shape (None, 1) for input KerasTensor(type_spec=TensorSpec(shape=(None, 1), dtype=tf.float32, name='30-34 Perempuan'), name='30-34 Perempuan', description=\"created by layer '30-34 Perempuan'\"), but it was called on an input with incompatible shape ().\n",
            "WARNING:tensorflow:Model was constructed with shape (None, 1) for input KerasTensor(type_spec=TensorSpec(shape=(None, 1), dtype=tf.float32, name='35-39 Laki-Laki'), name='35-39 Laki-Laki', description=\"created by layer '35-39 Laki-Laki'\"), but it was called on an input with incompatible shape ().\n",
            "WARNING:tensorflow:Model was constructed with shape (None, 1) for input KerasTensor(type_spec=TensorSpec(shape=(None, 1), dtype=tf.float32, name='35-39 Perempuan'), name='35-39 Perempuan', description=\"created by layer '35-39 Perempuan'\"), but it was called on an input with incompatible shape ().\n",
            "WARNING:tensorflow:Model was constructed with shape (None, 1) for input KerasTensor(type_spec=TensorSpec(shape=(None, 1), dtype=tf.float32, name='40-44 Laki-Laki'), name='40-44 Laki-Laki', description=\"created by layer '40-44 Laki-Laki'\"), but it was called on an input with incompatible shape ().\n",
            "WARNING:tensorflow:Model was constructed with shape (None, 1) for input KerasTensor(type_spec=TensorSpec(shape=(None, 1), dtype=tf.float32, name='40-44 Perempuan'), name='40-44 Perempuan', description=\"created by layer '40-44 Perempuan'\"), but it was called on an input with incompatible shape ().\n",
            "WARNING:tensorflow:Model was constructed with shape (None, 1) for input KerasTensor(type_spec=TensorSpec(shape=(None, 1), dtype=tf.float32, name='45-49 Laki-Laki'), name='45-49 Laki-Laki', description=\"created by layer '45-49 Laki-Laki'\"), but it was called on an input with incompatible shape ().\n",
            "WARNING:tensorflow:Model was constructed with shape (None, 1) for input KerasTensor(type_spec=TensorSpec(shape=(None, 1), dtype=tf.float32, name='45-49 Perempuan'), name='45-49 Perempuan', description=\"created by layer '45-49 Perempuan'\"), but it was called on an input with incompatible shape ().\n",
            "WARNING:tensorflow:Model was constructed with shape (None, 1) for input KerasTensor(type_spec=TensorSpec(shape=(None, 1), dtype=tf.float32, name='50-54 Laki-Laki'), name='50-54 Laki-Laki', description=\"created by layer '50-54 Laki-Laki'\"), but it was called on an input with incompatible shape ().\n",
            "WARNING:tensorflow:Model was constructed with shape (None, 1) for input KerasTensor(type_spec=TensorSpec(shape=(None, 1), dtype=tf.float32, name='50-54 Perempuan'), name='50-54 Perempuan', description=\"created by layer '50-54 Perempuan'\"), but it was called on an input with incompatible shape ().\n",
            "WARNING:tensorflow:Model was constructed with shape (None, 1) for input KerasTensor(type_spec=TensorSpec(shape=(None, 1), dtype=tf.float32, name='55-59 Laki-Laki'), name='55-59 Laki-Laki', description=\"created by layer '55-59 Laki-Laki'\"), but it was called on an input with incompatible shape ().\n",
            "WARNING:tensorflow:Model was constructed with shape (None, 1) for input KerasTensor(type_spec=TensorSpec(shape=(None, 1), dtype=tf.float32, name='55-59 Perempuan'), name='55-59 Perempuan', description=\"created by layer '55-59 Perempuan'\"), but it was called on an input with incompatible shape ().\n",
            "WARNING:tensorflow:Model was constructed with shape (None, 1) for input KerasTensor(type_spec=TensorSpec(shape=(None, 1), dtype=tf.float32, name='60-64 Laki-Laki'), name='60-64 Laki-Laki', description=\"created by layer '60-64 Laki-Laki'\"), but it was called on an input with incompatible shape ().\n",
            "WARNING:tensorflow:Model was constructed with shape (None, 1) for input KerasTensor(type_spec=TensorSpec(shape=(None, 1), dtype=tf.float32, name='60-64 Perempuan'), name='60-64 Perempuan', description=\"created by layer '60-64 Perempuan'\"), but it was called on an input with incompatible shape ().\n",
            "WARNING:tensorflow:Model was constructed with shape (None, 1) for input KerasTensor(type_spec=TensorSpec(shape=(None, 1), dtype=tf.float32, name='>65 Laki-Laki'), name='>65 Laki-Laki', description=\"created by layer '>65 Laki-Laki'\"), but it was called on an input with incompatible shape ().\n",
            "WARNING:tensorflow:Model was constructed with shape (None, 1) for input KerasTensor(type_spec=TensorSpec(shape=(None, 1), dtype=tf.float32, name='>65 Perempuan'), name='>65 Perempuan', description=\"created by layer '>65 Perempuan'\"), but it was called on an input with incompatible shape ().\n",
            "WARNING:tensorflow:Model was constructed with shape (None, 1) for input KerasTensor(type_spec=TensorSpec(shape=(None, 1), dtype=tf.float32, name='JUMLAH RT'), name='JUMLAH RT', description=\"created by layer 'JUMLAH RT'\"), but it was called on an input with incompatible shape ().\n",
            "WARNING:tensorflow:Model was constructed with shape (None, 1) for input KerasTensor(type_spec=TensorSpec(shape=(None, 1), dtype=tf.float32, name='JUMLAH RW'), name='JUMLAH RW', description=\"created by layer 'JUMLAH RW'\"), but it was called on an input with incompatible shape ().\n",
            "WARNING:tensorflow:Model was constructed with shape (None, 1) for input KerasTensor(type_spec=TensorSpec(shape=(None, 1), dtype=tf.float32, name='JUMLAH KELAHIRAN'), name='JUMLAH KELAHIRAN', description=\"created by layer 'JUMLAH KELAHIRAN'\"), but it was called on an input with incompatible shape ().\n"
          ]
        },
        {
          "output_type": "execute_result",
          "data": {
            "text/plain": [
              "array([[39.49797 ],\n",
              "       [62.826393],\n",
              "       [98.57807 ],\n",
              "       [89.03071 ]], dtype=float32)"
            ]
          },
          "metadata": {},
          "execution_count": 39
        }
      ]
    },
    {
      "cell_type": "code",
      "source": [
        "from sklearn.metrics import accuracy_score\n",
        "from sklearn.metrics import precision_score\n",
        "from sklearn.metrics import recall_score\n",
        "from sklearn.metrics import f1_score\n",
        "\n",
        "#mengevaluasi hasil prediksi terhadap label yang sebenarnya\n",
        "pred_2019 = [1 if x >=50 else 0 for x in prediction_2019]\n",
        "accuracy = np.round(accuracy_score(list(label_01), pred_2019),4)\n",
        "precision = np.round(precision_score(list(label_01), pred_2019),4)\n",
        "recall = np.round(recall_score(list(label_01), pred_2019),4)\n",
        "f1 = np.round(f1_score(list(label_01), pred_2019),4)\n",
        "\n",
        "print(\"Model Neural Network menghasilkan akurasi {0}%, precision {1}%, recall {2}%, dan f1 score {3}%\". format(accuracy*100,precision*100,recall*100,f1*100))"
      ],
      "metadata": {
        "colab": {
          "base_uri": "https://localhost:8080/"
        },
        "id": "ezKvIP3xWwdT",
        "outputId": "1915601d-0e30-4778-97ba-af43621a9816"
      },
      "execution_count": 40,
      "outputs": [
        {
          "output_type": "stream",
          "name": "stdout",
          "text": [
            "Model Neural Network menghasilkan akurasi 82.77%, precision 70.23%, recall 92.93%, dan f1 score 80.0%\n"
          ]
        }
      ]
    }
  ]
}